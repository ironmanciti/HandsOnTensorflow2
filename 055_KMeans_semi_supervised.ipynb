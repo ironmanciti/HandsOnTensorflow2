{
  "cells": [
    {
      "cell_type": "markdown",
      "id": "e18d0bd8",
      "metadata": {
        "id": "e18d0bd8"
      },
      "source": [
        "# 군집을 사용한 준지도 학습 구현"
      ]
    },
    {
      "cell_type": "code",
      "execution_count": 1,
      "id": "dec683a2",
      "metadata": {
        "colab": {
          "base_uri": "https://localhost:8080/"
        },
        "id": "dec683a2",
        "outputId": "dc402985-07d6-4e1c-d172-3fad4439b3fc"
      },
      "outputs": [
        {
          "output_type": "execute_result",
          "data": {
            "text/plain": [
              "((1797, 64), (1797, 8, 8), (1797,))"
            ]
          },
          "metadata": {},
          "execution_count": 1
        }
      ],
      "source": [
        "from sklearn import datasets\n",
        "from sklearn.cluster import KMeans\n",
        "import numpy as np\n",
        "import matplotlib.pyplot as plt\n",
        "\n",
        "# 숫자 이미지 데이터 로드\n",
        "# digits.data - 8x8을 펼친 vector 값\n",
        "# digits.image - 8x8 2차원 array\n",
        "digits = datasets.load_digits()\n",
        "digits.data.shape, digits.images.shape, digits.target.shape"
      ]
    },
    {
      "cell_type": "markdown",
      "id": "c826ce2d",
      "metadata": {
        "id": "c826ce2d"
      },
      "source": [
        "- data는 0-9가 순차적으로 반복되는 순서로 섞여 있음"
      ]
    },
    {
      "cell_type": "code",
      "execution_count": 2,
      "id": "a63b5177",
      "metadata": {
        "colab": {
          "base_uri": "https://localhost:8080/"
        },
        "id": "a63b5177",
        "outputId": "4d1148e4-a0da-4f06-bde2-6790d6b6a3ca"
      },
      "outputs": [
        {
          "output_type": "stream",
          "name": "stdout",
          "text": [
            "012345678901234567890123456789095565098984177351002278201263373346664915095282001763217463139176843140536961754472822579548849089801234567890123456789012345678909556509898417735100227820126337334666491509528200176321731391768431405369617544728225548849089801234567890123456789012345678909556509898417735100227820126337334666491509528200176321746313917684314053696175447282257954884908930123456789012345678901234567890955650989841773510022782012633733466649150952820017632174631391768431405369617544728225795488490898012345678901234567890123456789095565098984177351002278201263373346664915095282001763217463139176843140536961754472822579548849089801234567890123456789012345678909556509898417735100227820126337334666491509528200176321746313917684314053696175447282257954884908980123456789012345678901234567890955650989841773510022782012633733466649150952820017632174631391768431405369617544728225795488490898123456789012345678901234567890955650989841773512782012633733466649150952820017632146313917684314053696175447282257954490898012345678901234567890123456789095565098984177351007820126337334666491509528200176321746313917684314053696175447282257954884908980123456789012345678901234567890955650989841773510022782012633733466649150952820017632174631391768431405369617544728225795488490898012345678901234567890123456789095565098984177351002278201263373346664915095282001763217463139176843140536961754472822579548849080123456789012345678901234567890955650989841773510022782012633733466649150952820017632174631391768431405369617544728225795488490898012345678901234569012345678909556509898417735100227820126337334666491509528017632174631391768431405369617544722579544908980123456789012345678901234567890955650989841773510022782012633733466649150952820017632174631391768431405369617544728225795488490898"
          ]
        }
      ],
      "source": [
        "for i in digits.target:\n",
        "    print(i, end='')"
      ]
    },
    {
      "cell_type": "markdown",
      "id": "c16ebd82",
      "metadata": {
        "id": "c16ebd82"
      },
      "source": [
        "### data 시각화"
      ]
    },
    {
      "cell_type": "code",
      "execution_count": 3,
      "id": "e872ddf6",
      "metadata": {
        "colab": {
          "base_uri": "https://localhost:8080/",
          "height": 333
        },
        "id": "e872ddf6",
        "outputId": "97dfbf70-a9c4-4e01-c8a9-0bac7642b618"
      },
      "outputs": [
        {
          "output_type": "execute_result",
          "data": {
            "text/plain": [
              "Text(0.5, 1.0, 'class = 0')"
            ]
          },
          "metadata": {},
          "execution_count": 3
        },
        {
          "output_type": "display_data",
          "data": {
            "text/plain": [
              "<Figure size 300x300 with 1 Axes>"
            ],
            "image/png": "[encoded data removed]"
          },
          "metadata": {}
        }
      ],
      "source": [
        "plt.figure(figsize=(3, 3))\n",
        "plt.imshow(digits.images[0], cmap='gray')\n",
        "plt.title(f\"class = {digits.target[0]}\")"
      ]
    },
    {
      "cell_type": "markdown",
      "id": "79cda64c",
      "metadata": {
        "id": "79cda64c"
      },
      "source": [
        "### step 1. 비지도 학습을 이용한 군집화\n",
        "\n",
        "우선 군집 알고리즘을 사용해 전체 데이터를 여러 클러스터로 나눕니다.   \n",
        "\n",
        "### step 2. 클러스터내의 가장 많은 레이블을 클러스터의 모든 샘플의 레이블로 적용\n",
        "그런 다음, 각 클러스터 내에서 레이블이 알려진 샘플의 레이블을 해당 클러스터에 속한 모든 샘플에 할당합니다. 이렇게 하면, 레이블이 없는 샘플들도 레이블을 가지게 되며, 이 정보를 이용해 분류 모델을 학습할 수 있습니다."
      ]
    },
    {
      "cell_type": "code",
      "source": [
        "# KMeans를 이용해 전체 데이터를 10개의 클러스터로 분할\n",
        "kmeans = KMeans(n_clusters=10, random_state=42, n_init='auto')\n",
        "kmeans.fit(digits.data)"
      ],
      "metadata": {
        "colab": {
          "base_uri": "https://localhost:8080/",
          "height": 74
        },
        "id": "wQNq-cVwZb5R",
        "outputId": "33c122af-df39-419a-f625-bd73c9ba8759"
      },
      "id": "wQNq-cVwZb5R",
      "execution_count": 4,
      "outputs": [
        {
          "output_type": "execute_result",
          "data": {
            "text/plain": [
              "KMeans(n_clusters=10, n_init='auto', random_state=42)"
            ],
            "text/html": [
              "<style>#sk-container-id-1 {color: black;background-color: white;}#sk-container-id-1 pre{padding: 0;}#sk-container-id-1 div.sk-toggleable {background-color: white;}#sk-container-id-1 label.sk-toggleable__label {cursor: pointer;display: block;width: 100%;margin-bottom: 0;padding: 0.3em;box-sizing: border-box;text-align: center;}#sk-container-id-1 label.sk-toggleable__label-arrow:before {content: \"▸\";float: left;margin-right: 0.25em;color: #696969;}#sk-container-id-1 label.sk-toggleable__label-arrow:hover:before {color: black;}#sk-container-id-1 div.sk-estimator:hover label.sk-toggleable__label-arrow:before {color: black;}#sk-container-id-1 div.sk-toggleable__content {max-height: 0;max-width: 0;overflow: hidden;text-align: left;background-color: #f0f8ff;}#sk-container-id-1 div.sk-toggleable__content pre {margin: 0.2em;color: black;border-radius: 0.25em;background-color: #f0f8ff;}#sk-container-id-1 input.sk-toggleable__control:checked~div.sk-toggleable__content {max-height: 200px;max-width: 100%;overflow: auto;}#sk-container-id-1 input.sk-toggleable__control:checked~label.sk-toggleable__label-arrow:before {content: \"▾\";}#sk-container-id-1 div.sk-estimator input.sk-toggleable__control:checked~label.sk-toggleable__label {background-color: #d4ebff;}#sk-container-id-1 div.sk-label input.sk-toggleable__control:checked~label.sk-toggleable__label {background-color: #d4ebff;}#sk-container-id-1 input.sk-hidden--visually {border: 0;clip: rect(1px 1px 1px 1px);clip: rect(1px, 1px, 1px, 1px);height: 1px;margin: -1px;overflow: hidden;padding: 0;position: absolute;width: 1px;}#sk-container-id-1 div.sk-estimator {font-family: monospace;background-color: #f0f8ff;border: 1px dotted black;border-radius: 0.25em;box-sizing: border-box;margin-bottom: 0.5em;}#sk-container-id-1 div.sk-estimator:hover {background-color: #d4ebff;}#sk-container-id-1 div.sk-parallel-item::after {content: \"\";width: 100%;border-bottom: 1px solid gray;flex-grow: 1;}#sk-container-id-1 div.sk-label:hover label.sk-toggleable__label {background-color: #d4ebff;}#sk-container-id-1 div.sk-serial::before {content: \"\";position: absolute;border-left: 1px solid gray;box-sizing: border-box;top: 0;bottom: 0;left: 50%;z-index: 0;}#sk-container-id-1 div.sk-serial {display: flex;flex-direction: column;align-items: center;background-color: white;padding-right: 0.2em;padding-left: 0.2em;position: relative;}#sk-container-id-1 div.sk-item {position: relative;z-index: 1;}#sk-container-id-1 div.sk-parallel {display: flex;align-items: stretch;justify-content: center;background-color: white;position: relative;}#sk-container-id-1 div.sk-item::before, #sk-container-id-1 div.sk-parallel-item::before {content: \"\";position: absolute;border-left: 1px solid gray;box-sizing: border-box;top: 0;bottom: 0;left: 50%;z-index: -1;}#sk-container-id-1 div.sk-parallel-item {display: flex;flex-direction: column;z-index: 1;position: relative;background-color: white;}#sk-container-id-1 div.sk-parallel-item:first-child::after {align-self: flex-end;width: 50%;}#sk-container-id-1 div.sk-parallel-item:last-child::after {align-self: flex-start;width: 50%;}#sk-container-id-1 div.sk-parallel-item:only-child::after {width: 0;}#sk-container-id-1 div.sk-dashed-wrapped {border: 1px dashed gray;margin: 0 0.4em 0.5em 0.4em;box-sizing: border-box;padding-bottom: 0.4em;background-color: white;}#sk-container-id-1 div.sk-label label {font-family: monospace;font-weight: bold;display: inline-block;line-height: 1.2em;}#sk-container-id-1 div.sk-label-container {text-align: center;}#sk-container-id-1 div.sk-container {/* jupyter's `normalize.less` sets `[hidden] { display: none; }` but bootstrap.min.css set `[hidden] { display: none !important; }` so we also need the `!important` here to be able to override the default hidden behavior on the sphinx rendered scikit-learn.org. See: https://github.com/scikit-learn/scikit-learn/issues/21755 */display: inline-block !important;position: relative;}#sk-container-id-1 div.sk-text-repr-fallback {display: none;}</style><div id=\"sk-container-id-1\" class=\"sk-top-container\"><div class=\"sk-text-repr-fallback\"><pre>KMeans(n_clusters=10, n_init=&#x27;auto&#x27;, random_state=42)</pre><b>In a Jupyter environment, please rerun this cell to show the HTML representation or trust the notebook. <br />On GitHub, the HTML representation is unable to render, please try loading this page with nbviewer.org.</b></div><div class=\"sk-container\" hidden><div class=\"sk-item\"><div class=\"sk-estimator sk-toggleable\"><input class=\"sk-toggleable__control sk-hidden--visually\" id=\"sk-estimator-id-1\" type=\"checkbox\" checked><label for=\"sk-estimator-id-1\" class=\"sk-toggleable__label sk-toggleable__label-arrow\">KMeans</label><div class=\"sk-toggleable__content\"><pre>KMeans(n_clusters=10, n_init=&#x27;auto&#x27;, random_state=42)</pre></div></div></div></div></div>"
            ]
          },
          "metadata": {},
          "execution_count": 4
        }
      ]
    },
    {
      "cell_type": "code",
      "source": [
        "kmeans.cluster_centers_.shape"
      ],
      "metadata": {
        "colab": {
          "base_uri": "https://localhost:8080/"
        },
        "id": "22XJ6xqyZfTB",
        "outputId": "0209c81f-c226-47c2-8225-3209bc14396d"
      },
      "id": "22XJ6xqyZfTB",
      "execution_count": 5,
      "outputs": [
        {
          "output_type": "execute_result",
          "data": {
            "text/plain": [
              "(10, 64)"
            ]
          },
          "metadata": {},
          "execution_count": 5
        }
      ]
    },
    {
      "cell_type": "code",
      "source": [
        "#각 data point가 어느 cluster에 속하는지 분류\n",
        "clusters = kmeans.predict(digits.data)\n",
        "clusters.shape"
      ],
      "metadata": {
        "colab": {
          "base_uri": "https://localhost:8080/"
        },
        "id": "622j9qT8ZywC",
        "outputId": "384673af-85c6-4644-ba72-78da6db95fc0"
      },
      "id": "622j9qT8ZywC",
      "execution_count": 6,
      "outputs": [
        {
          "output_type": "execute_result",
          "data": {
            "text/plain": [
              "(1797,)"
            ]
          },
          "metadata": {},
          "execution_count": 6
        }
      ]
    },
    {
      "cell_type": "code",
      "execution_count": 7,
      "id": "77b2f7a7",
      "metadata": {
        "colab": {
          "base_uri": "https://localhost:8080/"
        },
        "id": "77b2f7a7",
        "outputId": "008ed9eb-a987-4102-9514-d77e8361dd55"
      },
      "outputs": [
        {
          "output_type": "stream",
          "name": "stdout",
          "text": [
            "각 cluster 에 속한 datapoint 갯수\n",
            "(array([0, 1, 2, 3, 4, 5, 6, 7, 8, 9], dtype=int32), array([264, 180, 180, 175, 151,  29, 179, 152, 208, 279]))\n"
          ]
        }
      ],
      "source": [
        "print(\"각 cluster 에 속한 datapoint 갯수\")\n",
        "print(np.unique(clusters, return_counts=True))"
      ]
    },
    {
      "cell_type": "markdown",
      "id": "45762f76-4f34-4baf-b9c5-dd789eba28c1",
      "metadata": {
        "id": "45762f76-4f34-4baf-b9c5-dd789eba28c1"
      },
      "source": [
        "- 처음 180개의 샘플만 레이블이 알려져 있고 나머지 데이터는 레이블이 없다고(-1) 가정"
      ]
    },
    {
      "cell_type": "code",
      "source": [
        "digits.target.shape"
      ],
      "metadata": {
        "colab": {
          "base_uri": "https://localhost:8080/"
        },
        "id": "ldDLmaEOapg2",
        "outputId": "019a3d7b-f2ee-4553-a94b-c462314f7187"
      },
      "id": "ldDLmaEOapg2",
      "execution_count": 8,
      "outputs": [
        {
          "output_type": "execute_result",
          "data": {
            "text/plain": [
              "(1797,)"
            ]
          },
          "metadata": {},
          "execution_count": 8
        }
      ]
    },
    {
      "cell_type": "code",
      "source": [
        "known_labels = np.full(digits.target.shape, -1)\n",
        "known_labels[:170] = digits.target[:170]\n",
        "known_labels"
      ],
      "metadata": {
        "colab": {
          "base_uri": "https://localhost:8080/"
        },
        "id": "vw1eezpxai7x",
        "outputId": "4c60bb8a-c296-4953-f146-29c6b54b9e5c"
      },
      "id": "vw1eezpxai7x",
      "execution_count": 9,
      "outputs": [
        {
          "output_type": "execute_result",
          "data": {
            "text/plain": [
              "array([ 0,  1,  2, ..., -1, -1, -1])"
            ]
          },
          "metadata": {},
          "execution_count": 9
        }
      ]
    },
    {
      "cell_type": "code",
      "execution_count": 10,
      "id": "607aad9c",
      "metadata": {
        "colab": {
          "base_uri": "https://localhost:8080/"
        },
        "id": "607aad9c",
        "outputId": "4a2a6419-d227-49f7-8de7-566f0c219a55"
      },
      "outputs": [
        {
          "output_type": "stream",
          "name": "stdout",
          "text": [
            "(array([-1,  0,  1,  2,  3,  4,  5,  6,  7,  8,  9]), array([1627,   18,   16,   16,   16,   16,   19,   17,   16,   17,   19]))\n"
          ]
        }
      ],
      "source": [
        "# 배열 내 고유 값들과 그 각각의 개수를 반환하고, 이를 출력\n",
        "print(np.unique(known_labels, return_counts=True))"
      ]
    },
    {
      "cell_type": "code",
      "source": [
        "labels_in_cluster = known_labels[clusters == 0]\n",
        "labels_in_cluster"
      ],
      "metadata": {
        "colab": {
          "base_uri": "https://localhost:8080/"
        },
        "id": "DTaVwgPqbph3",
        "outputId": "7321643f-6ea8-469f-c911-bdd5b70061f4"
      },
      "id": "DTaVwgPqbph3",
      "execution_count": 11,
      "outputs": [
        {
          "output_type": "execute_result",
          "data": {
            "text/plain": [
              "array([ 1,  2,  8,  1,  8,  1,  8,  8,  1,  1,  2,  2,  8,  1,  2,  1,  2,\n",
              "        8,  2,  1,  1,  1,  1,  6,  8,  1,  1,  8,  2,  2,  8,  8,  8,  8,\n",
              "        8,  1,  8,  8,  8, -1, -1, -1, -1, -1, -1, -1, -1, -1, -1, -1, -1,\n",
              "       -1, -1, -1, -1, -1, -1, -1, -1, -1, -1, -1, -1, -1, -1, -1, -1, -1,\n",
              "       -1, -1, -1, -1, -1, -1, -1, -1, -1, -1, -1, -1, -1, -1, -1, -1, -1,\n",
              "       -1, -1, -1, -1, -1, -1, -1, -1, -1, -1, -1, -1, -1, -1, -1, -1, -1,\n",
              "       -1, -1, -1, -1, -1, -1, -1, -1, -1, -1, -1, -1, -1, -1, -1, -1, -1,\n",
              "       -1, -1, -1, -1, -1, -1, -1, -1, -1, -1, -1, -1, -1, -1, -1, -1, -1,\n",
              "       -1, -1, -1, -1, -1, -1, -1, -1, -1, -1, -1, -1, -1, -1, -1, -1, -1,\n",
              "       -1, -1, -1, -1, -1, -1, -1, -1, -1, -1, -1, -1, -1, -1, -1, -1, -1,\n",
              "       -1, -1, -1, -1, -1, -1, -1, -1, -1, -1, -1, -1, -1, -1, -1, -1, -1,\n",
              "       -1, -1, -1, -1, -1, -1, -1, -1, -1, -1, -1, -1, -1, -1, -1, -1, -1,\n",
              "       -1, -1, -1, -1, -1, -1, -1, -1, -1, -1, -1, -1, -1, -1, -1, -1, -1,\n",
              "       -1, -1, -1, -1, -1, -1, -1, -1, -1, -1, -1, -1, -1, -1, -1, -1, -1,\n",
              "       -1, -1, -1, -1, -1, -1, -1, -1, -1, -1, -1, -1, -1, -1, -1, -1, -1,\n",
              "       -1, -1, -1, -1, -1, -1, -1, -1, -1])"
            ]
          },
          "metadata": {},
          "execution_count": 11
        }
      ]
    },
    {
      "cell_type": "code",
      "source": [
        "np.unique(labels_in_cluster[labels_in_cluster != -1], return_counts=True)"
      ],
      "metadata": {
        "colab": {
          "base_uri": "https://localhost:8080/"
        },
        "id": "n8D-vzxcfXJX",
        "outputId": "f881e0ce-3be2-4f76-b35e-8fd21dcd0831"
      },
      "id": "n8D-vzxcfXJX",
      "execution_count": 12,
      "outputs": [
        {
          "output_type": "execute_result",
          "data": {
            "text/plain": [
              "(array([1, 2, 6, 8]), array([14,  8,  1, 16]))"
            ]
          },
          "metadata": {},
          "execution_count": 12
        }
      ]
    },
    {
      "cell_type": "code",
      "execution_count": 13,
      "id": "67788a0e",
      "metadata": {
        "colab": {
          "base_uri": "https://localhost:8080/"
        },
        "id": "67788a0e",
        "outputId": "6eb881fd-a81c-4dae-c36e-3d5a2f0cc82a"
      },
      "outputs": [
        {
          "output_type": "stream",
          "name": "stdout",
          "text": [
            "cluster 0의 label 종류: [1 2 6 8], 갯수 [14  8  1 16]\n",
            "cluster 1의 label 종류: [6], 갯수 [16]\n",
            "cluster 2의 label 종류: [3 9], 갯수 [15  1]\n",
            "cluster 3의 label 종류: [4], 갯수 [16]\n",
            "cluster 4의 label 종류: [2], 갯수 [7]\n",
            "cluster 5의 label 종류: [], 갯수 []\n",
            "cluster 6의 label 종류: [0], 갯수 [18]\n",
            "cluster 7의 label 종류: [5 8], 갯수 [18  1]\n",
            "cluster 8의 label 종류: [2 3 7 9], 갯수 [ 1  1 16  1]\n",
            "cluster 9의 label 종류: [1 5 9], 갯수 [ 2  1 17]\n"
          ]
        }
      ],
      "source": [
        "# cluster i 에 속한 datapoint 들의 known labels 추출\n",
        "for i in range(10):\n",
        "    labels_in_cluster = known_labels[clusters == i]\n",
        "    # np.unique 함수를 사용하여, labels_in_cluster 에서 레이블이 알려진(-1이 아닌) 샘플들의 레이블 등장 횟수를 계산합니다.\n",
        "    label, count = np.unique(labels_in_cluster[labels_in_cluster != -1], return_counts=True)\n",
        "    print(f\"cluster {i}의 label 종류: {label}, 갯수 {count}\")"
      ]
    },
    {
      "cell_type": "markdown",
      "id": "87975c76-788d-4787-b543-8e1f43ceb405",
      "metadata": {
        "id": "87975c76-788d-4787-b543-8e1f43ceb405"
      },
      "source": [
        "- 각 클러스터에 대해 가장 많은 known label을 찾고, 이 레이블을 해당 클러스터의 대표 레이블로 설정"
      ]
    },
    {
      "cell_type": "code",
      "source": [
        "label, count = np.unique(labels_in_cluster[labels_in_cluster != -1], return_counts=True)\n",
        "label, count"
      ],
      "metadata": {
        "colab": {
          "base_uri": "https://localhost:8080/"
        },
        "id": "DLanQ23XfwLz",
        "outputId": "920b70e3-9b7b-4e43-e344-6dc4c1bd7f71"
      },
      "id": "DLanQ23XfwLz",
      "execution_count": 14,
      "outputs": [
        {
          "output_type": "execute_result",
          "data": {
            "text/plain": [
              "(array([1, 5, 9]), array([ 2,  1, 17]))"
            ]
          },
          "metadata": {},
          "execution_count": 14
        }
      ]
    },
    {
      "cell_type": "code",
      "source": [
        "label[np.argmax(count)]"
      ],
      "metadata": {
        "colab": {
          "base_uri": "https://localhost:8080/"
        },
        "id": "HXoqu9eZf8G5",
        "outputId": "5d5d9ebd-0268-49d8-aba6-037e98e2516c"
      },
      "id": "HXoqu9eZf8G5",
      "execution_count": 15,
      "outputs": [
        {
          "output_type": "execute_result",
          "data": {
            "text/plain": [
              "9"
            ]
          },
          "metadata": {},
          "execution_count": 15
        }
      ]
    },
    {
      "cell_type": "code",
      "execution_count": 16,
      "id": "8c4e7f72",
      "metadata": {
        "colab": {
          "base_uri": "https://localhost:8080/"
        },
        "id": "8c4e7f72",
        "outputId": "5ed3365f-b949-40dc-d909-c34bc94866da"
      },
      "outputs": [
        {
          "output_type": "execute_result",
          "data": {
            "text/plain": [
              "array([ 8,  6,  3,  4,  2, -1,  0,  5,  7,  9])"
            ]
          },
          "metadata": {},
          "execution_count": 16
        }
      ],
      "source": [
        "# 10개의 클러스터를 위한 레이블 배열을 초기화합니다. 초기 값은 -1로 설정합니다.\n",
        "cluster_labels = np.full(10, -1)\n",
        "\n",
        "# 10개의 클러스터 각각에 대해 반복합니다.\n",
        "for i in range(10):\n",
        "    # 알려진 레이블 중 현재 클러스터(i)에 속한 샘플들을 선택합니다.\n",
        "    labels_in_cluster = known_labels[clusters == i]\n",
        "\n",
        "    # 클러스터 내의 알려진 레이블 중 -1이 아닌 레이블을 추출합니다.\n",
        "    label, count = np.unique(labels_in_cluster[labels_in_cluster != -1], return_counts=True)\n",
        "\n",
        "    # 추출된 레이블 중 가장 많은 레이블을 선택합니다.\n",
        "    if len(label) > 0:\n",
        "        # 'label' 배열에서 가장 많이 나타난 레이블을 선택합니다.\n",
        "        cluster_labels[i] = label[np.argmax(count)]\n",
        "\n",
        "# 각 클러스터에 할당된 대표 레이블을 출력합니다.\n",
        "cluster_labels"
      ]
    },
    {
      "cell_type": "code",
      "execution_count": 17,
      "id": "4f547f8f",
      "metadata": {
        "colab": {
          "base_uri": "https://localhost:8080/"
        },
        "id": "4f547f8f",
        "outputId": "916741f0-3049-4b44-d304-8c5990449d06"
      },
      "outputs": [
        {
          "output_type": "stream",
          "name": "stdout",
          "text": [
            "cluster 0의 label은 8으로 할당\n",
            "cluster 1의 label은 6으로 할당\n",
            "cluster 2의 label은 3으로 할당\n",
            "cluster 3의 label은 4으로 할당\n",
            "cluster 4의 label은 2으로 할당\n",
            "cluster 5의 label은 -1으로 할당\n",
            "cluster 6의 label은 0으로 할당\n",
            "cluster 7의 label은 5으로 할당\n",
            "cluster 8의 label은 7으로 할당\n",
            "cluster 9의 label은 9으로 할당\n"
          ]
        }
      ],
      "source": [
        "for i, cl in enumerate(cluster_labels):\n",
        "    print(f\"cluster {i}의 label은 {cl}으로 할당\")"
      ]
    },
    {
      "cell_type": "markdown",
      "id": "bffaf9b8-b2fe-4bf3-92d6-27dd12ee35a1",
      "metadata": {
        "id": "bffaf9b8-b2fe-4bf3-92d6-27dd12ee35a1"
      },
      "source": [
        "- 레이블이 없는 샘플(known_labels == -1)에 대해, 해당 샘플이 속한 클러스터의 레이블을 할당"
      ]
    },
    {
      "cell_type": "code",
      "execution_count": 18,
      "id": "844a5920",
      "metadata": {
        "colab": {
          "base_uri": "https://localhost:8080/"
        },
        "id": "844a5920",
        "outputId": "fc3b710d-72a1-4bda-9f29-7d5a208d6bdb"
      },
      "outputs": [
        {
          "output_type": "execute_result",
          "data": {
            "text/plain": [
              "(array([-1,  0,  1,  2,  3,  4,  5,  6,  7,  8,  9]),\n",
              " array([ 29, 179,  16, 160, 180, 175, 152, 181, 205, 242, 278]))"
            ]
          },
          "metadata": {},
          "execution_count": 18
        }
      ],
      "source": [
        "# 레이블이 알려지지 않은(즉, -1인) 데이터 포인트들을 찾습니다.\n",
        "# 이들 데이터 포인트에 대해 해당 데이터 포인트가 속한 클러스터의 레이블을 할당합니다.\n",
        "known_labels[known_labels == -1] = cluster_labels[clusters[known_labels == -1]]\n",
        "\n",
        "# 이제 'known_labels'에는 원래 알려진 레이블과 클러스터링을 통해 추론된 레이블이 모두 포함됩니다.\n",
        "# 여기서 고유한 레이블 값들과 그들의 개수를 반환하고, 이를 출력하여 확인합니다.\n",
        "np.unique(known_labels, return_counts=True)"
      ]
    },
    {
      "cell_type": "code",
      "execution_count": 19,
      "id": "482a2e28",
      "metadata": {
        "colab": {
          "base_uri": "https://localhost:8080/"
        },
        "id": "482a2e28",
        "outputId": "17624a53-c058-4d24-cf33-c5b535e464ff"
      },
      "outputs": [
        {
          "output_type": "execute_result",
          "data": {
            "text/plain": [
              "(array([0, 1, 2, 3, 4, 5, 6, 7, 8, 9]),\n",
              " array([178, 182, 177, 183, 181, 182, 181, 179, 174, 180]))"
            ]
          },
          "metadata": {},
          "execution_count": 19
        }
      ],
      "source": [
        "# 원래의 digits.target과 비교해 봅니다.\n",
        "np.unique(digits.target, return_counts=True)"
      ]
    },
    {
      "cell_type": "markdown",
      "id": "b0deeb63",
      "metadata": {
        "id": "b0deeb63"
      },
      "source": [
        "군집화에 의해 할당한 label과 원래의 label 간의 정확도 비교"
      ]
    },
    {
      "cell_type": "code",
      "execution_count": 20,
      "id": "30aa6cd9",
      "metadata": {
        "colab": {
          "base_uri": "https://localhost:8080/"
        },
        "id": "30aa6cd9",
        "outputId": "8d5e5245-7890-4eb5-d1c8-6e98880394f7"
      },
      "outputs": [
        {
          "output_type": "execute_result",
          "data": {
            "text/plain": [
              "0.8007790762381747"
            ]
          },
          "metadata": {},
          "execution_count": 20
        }
      ],
      "source": [
        "sum(known_labels == digits.target) / len(digits.target)"
      ]
    }
  ],
  "metadata": {
    "kernelspec": {
      "display_name": "Python 3 (ipykernel)",
      "language": "python",
      "name": "python3"
    },
    "language_info": {
      "codemirror_mode": {
        "name": "ipython",
        "version": 3
      },
      "file_extension": ".py",
      "mimetype": "text/x-python",
      "name": "python",
      "nbconvert_exporter": "python",
      "pygments_lexer": "ipython3",
      "version": "3.9.16"
    },
    "colab": {
      "provenance": []
    }
  },
  "nbformat": 4,
  "nbformat_minor": 5
}