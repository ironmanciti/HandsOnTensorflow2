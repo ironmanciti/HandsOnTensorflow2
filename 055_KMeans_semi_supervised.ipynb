{
 "cells": [
  {
   "cell_type": "markdown",
   "id": "e18d0bd8",
   "metadata": {},
   "source": [
    "# 군집을 사용한 준지도 학습 구현"
   ]
  },
  {
   "cell_type": "code",
   "execution_count": 6,
   "id": "dec683a2",
   "metadata": {},
   "outputs": [],
   "source": [
    "from sklearn import datasets\n",
    "from sklearn.cluster import KMeans\n",
    "from sklearn.ensemble import RandomForestClassifier\n",
    "from sklearn.model_selection import train_test_split\n",
    "from sklearn.metrics import accuracy_score, confusion_matrix\n",
    "import numpy as np\n",
    "import matplotlib.pyplot as plt\n",
    "\n",
    "# 숫자 이미지 데이터 로드\n",
    "# digits.data - 8x8을 펼친 vector 값\n",
    "# digits.image - 8x8 2차원 array\n",
    "digits = datasets.load_digits()"
   ]
  },
  {
   "cell_type": "code",
   "execution_count": 7,
   "id": "c3d95ed6",
   "metadata": {},
   "outputs": [
    {
     "data": {
      "text/plain": [
       "((1797, 64), (1797,))"
      ]
     },
     "execution_count": 7,
     "metadata": {},
     "output_type": "execute_result"
    }
   ],
   "source": [
    "digits.data.shape, digits.target.shape"
   ]
  },
  {
   "cell_type": "markdown",
   "id": "c826ce2d",
   "metadata": {},
   "source": [
    "- data는 0-9가 순차적으로 반복되는 순서로 섞여 있음"
   ]
  },
  {
   "cell_type": "code",
   "execution_count": 8,
   "id": "a63b5177",
   "metadata": {},
   "outputs": [
    {
     "name": "stdout",
     "output_type": "stream",
     "text": [
      "012345678901234567890123456789095565098984177351002278201263373346664915095282001763217463139176843140536961754472822579548849089801234567890123456789012345678909556509898417735100227820126337334666491509528200176321731391768431405369617544728225548849089801234567890123456789012345678909556509898417735100227820126337334666491509528200176321746313917684314053696175447282257954884908930123456789012345678901234567890955650989841773510022782012633733466649150952820017632174631391768431405369617544728225795488490898012345678901234567890123456789095565098984177351002278201263373346664915095282001763217463139176843140536961754472822579548849089801234567890123456789012345678909556509898417735100227820126337334666491509528200176321746313917684314053696175447282257954884908980123456789012345678901234567890955650989841773510022782012633733466649150952820017632174631391768431405369617544728225795488490898123456789012345678901234567890955650989841773512782012633733466649150952820017632146313917684314053696175447282257954490898012345678901234567890123456789095565098984177351007820126337334666491509528200176321746313917684314053696175447282257954884908980123456789012345678901234567890955650989841773510022782012633733466649150952820017632174631391768431405369617544728225795488490898012345678901234567890123456789095565098984177351002278201263373346664915095282001763217463139176843140536961754472822579548849080123456789012345678901234567890955650989841773510022782012633733466649150952820017632174631391768431405369617544728225795488490898012345678901234569012345678909556509898417735100227820126337334666491509528017632174631391768431405369617544722579544908980123456789012345678901234567890955650989841773510022782012633733466649150952820017632174631391768431405369617544728225795488490898"
     ]
    }
   ],
   "source": [
    "for i in digits.target:\n",
    "    print(i, end='')"
   ]
  },
  {
   "cell_type": "markdown",
   "id": "c16ebd82",
   "metadata": {},
   "source": [
    "### data 시각화"
   ]
  },
  {
   "cell_type": "code",
   "execution_count": 9,
   "id": "e872ddf6",
   "metadata": {},
   "outputs": [
    {
     "data": {
      "text/plain": [
       "Text(0.5, 1.0, 'class = 0')"
      ]
     },
     "execution_count": 9,
     "metadata": {},
     "output_type": "execute_result"
    },
    {
     "data": {
      "image/png": "[encoded data removed]",
      "text/plain": [
       "<Figure size 300x300 with 1 Axes>"
      ]
     },
     "metadata": {},
     "output_type": "display_data"
    }
   ],
   "source": [
    "plt.figure(figsize=(3, 3))\n",
    "plt.imshow(digits.data[0].reshape(8, 8))\n",
    "plt.title(f\"class = {digits.target[0]}\")"
   ]
  },
  {
   "cell_type": "markdown",
   "id": "79cda64c",
   "metadata": {},
   "source": [
    "### step 1. 비지도 학습을 이용한 군집화\n",
    "\n",
    "우선 군집 알고리즘을 사용해 전체 데이터를 여러 클러스터로 나눕니다.   \n",
    "\n",
    "### step 2. 클러스터내의 가장 많은 레이블을 클러스터의 모든 샘플의 레이블로 적용\n",
    "그런 다음, 각 클러스터 내에서 레이블이 알려진 샘플의 레이블을 해당 클러스터에 속한 모든 샘플에 할당합니다. 이렇게 하면, 레이블이 없는 샘플들도 레이블을 가지게 되며, 이 정보를 이용해 분류 모델을 학습할 수 있습니다."
   ]
  },
  {
   "cell_type": "code",
   "execution_count": 14,
   "id": "77b2f7a7",
   "metadata": {},
   "outputs": [
    {
     "name": "stdout",
     "output_type": "stream",
     "text": [
      "label 갯수 (1797,)\n",
      "각 cluster 에 속한 label 갯수\n",
      "(array([0, 1, 2, 3, 4, 5, 6, 7, 8, 9]), array([176, 179,  89, 226, 198, 182, 181, 157, 241, 168], dtype=int64))\n"
     ]
    }
   ],
   "source": [
    "# KMeans를 이용해 전체 데이터를 10개의 클러스터로 분할\n",
    "kmeans = KMeans(n_clusters=10, random_state=42, n_init='auto')\n",
    "kmeans.fit(digits.data)\n",
    "\n",
    "#각 data point가 어느 cluster에 속하는지 분류\n",
    "labels = kmeans.predict(digits.data)\n",
    "\n",
    "print(\"label 갯수\", labels.shape)\n",
    "print(\"각 cluster 에 속한 label 갯수\")\n",
    "print(np.unique(clusters, return_counts=True))"
   ]
  },
  {
   "cell_type": "markdown",
   "id": "45762f76-4f34-4baf-b9c5-dd789eba28c1",
   "metadata": {},
   "source": [
    "- 처음 50개의 샘플만 레이블이 알려져 있고 나머지 데이터는 레이블이 없다고(-1) 가정"
   ]
  },
  {
   "cell_type": "code",
   "execution_count": 16,
   "id": "607aad9c",
   "metadata": {},
   "outputs": [
    {
     "name": "stdout",
     "output_type": "stream",
     "text": [
      "[ 0  1  2 ... -1 -1 -1]\n",
      "(array([-1,  0,  1,  2,  3,  4,  5,  6,  7,  8,  9]), array([1747,    7,    5,    3,    4,    4,    7,    4,    5,    5,    6],\n",
      "      dtype=int64))\n"
     ]
    }
   ],
   "source": [
    "# 'digits.target.shape'의 형태로 모든 값을 -1로 채운 배열을 생성\n",
    "known_labels = np.full(digits.target.shape, -1)\n",
    "\n",
    "# 배열의 처음 50개의 값을 'digits.target'의 처음 50개 값으로 설정\n",
    "# 이렇게 하면 첫 50개의 레이블만 알 수 있고 나머지는 모르는 상태(-1)가 됩니다.\n",
    "known_labels[:50] = digits.target[:50]\n",
    "\n",
    "# 수정된 레이블 배열을 출력합니다.\n",
    "print(known_labels)\n",
    "\n",
    "# 배열 내 고유 값들과 그 각각의 개수를 반환하고, 이를 출력\n",
    "print(np.unique(known_labels, return_counts=True))"
   ]
  },
  {
   "cell_type": "code",
   "execution_count": 27,
   "id": "67788a0e",
   "metadata": {},
   "outputs": [
    {
     "name": "stdout",
     "output_type": "stream",
     "text": [
      "cluster 0의 label 종류: [2], 갯수 [2]\n",
      "cluster 1의 label 종류: [0], 갯수 [7]\n",
      "cluster 2의 label 종류: [1 7], 갯수 [4 1]\n",
      "cluster 3의 label 종류: [1 2 8], 갯수 [1 1 5]\n",
      "cluster 4의 label 종류: [7], 갯수 [4]\n",
      "cluster 5의 label 종류: [6], 갯수 [4]\n",
      "cluster 6의 label 종류: [3], 갯수 [4]\n",
      "cluster 7의 label 종류: [5], 갯수 [6]\n",
      "cluster 8의 label 종류: [5 9], 갯수 [1 6]\n",
      "cluster 9의 label 종류: [4], 갯수 [4]\n"
     ]
    }
   ],
   "source": [
    "# cluster i 에 속한 datapoint 들의 known labels 추출\n",
    "i = 9\n",
    "for i in range(10):\n",
    "    labels_in_cluster = known_labels[clusters == i]\n",
    "    # np.unique 함수를 사용하여, labels_in_cluster 에서 레이블이 알려진(-1이 아닌) 샘플들의 레이블 등장 횟수를 계산합니다.\n",
    "    label, count = np.unique(labels_in_cluster[labels_in_cluster != -1], return_counts=True)\n",
    "    print(f\"cluster {i}의 label 종류: {label}, 갯수 {count}\")"
   ]
  },
  {
   "cell_type": "markdown",
   "id": "87975c76-788d-4787-b543-8e1f43ceb405",
   "metadata": {},
   "source": [
    "- 각 클러스터에 대해 가장 많은 known label을 찾고, 이 레이블을 해당 클러스터의 대표 레이블로 설정"
   ]
  },
  {
   "cell_type": "code",
   "execution_count": 28,
   "id": "8c4e7f72",
   "metadata": {},
   "outputs": [
    {
     "data": {
      "text/plain": [
       "array([2, 0, 1, 8, 7, 6, 3, 5, 9, 4])"
      ]
     },
     "execution_count": 28,
     "metadata": {},
     "output_type": "execute_result"
    }
   ],
   "source": [
    "# 10개의 클러스터를 위한 레이블 배열을 초기화합니다. 초기 값은 -1로 설정합니다.\n",
    "cluster_labels = np.full(10, -1)\n",
    "\n",
    "# 10개의 클러스터 각각에 대해 반복합니다.\n",
    "for i in range(10):  \n",
    "    # 알려진 레이블 중 현재 클러스터(i)에 속한 샘플들을 선택합니다. \n",
    "    labels_in_cluster = known_labels[clusters == i]\n",
    "\n",
    "    # 클러스터 내의 알려진 레이블 중 -1이 아닌 레이블을 추출합니다.\n",
    "    label, count = np.unique(labels_in_cluster[labels_in_cluster != -1], return_counts=True)\n",
    "\n",
    "    # 추출된 레이블 중 가장 많은 레이블을 선택합니다.\n",
    "    if len(label) > 0:\n",
    "        # 'label' 배열에서 가장 많이 나타난 레이블을 선택합니다.\n",
    "        cluster_labels[i] = label[np.argmax(count)]\n",
    "        \n",
    "# 각 클러스터에 할당된 대표 레이블을 출력합니다.\n",
    "cluster_labels"
   ]
  },
  {
   "cell_type": "code",
   "execution_count": 30,
   "id": "4f547f8f",
   "metadata": {},
   "outputs": [
    {
     "name": "stdout",
     "output_type": "stream",
     "text": [
      "cluster 0의 label은 2으로 할당\n",
      "cluster 1의 label은 0으로 할당\n",
      "cluster 2의 label은 1으로 할당\n",
      "cluster 3의 label은 8으로 할당\n",
      "cluster 4의 label은 7으로 할당\n",
      "cluster 5의 label은 6으로 할당\n",
      "cluster 6의 label은 3으로 할당\n",
      "cluster 7의 label은 5으로 할당\n",
      "cluster 8의 label은 9으로 할당\n",
      "cluster 9의 label은 4으로 할당\n"
     ]
    }
   ],
   "source": [
    "for i, cl in enumerate(cluster_labels):\n",
    "    print(f\"cluster {i}의 label은 {cl}으로 할당\")"
   ]
  },
  {
   "cell_type": "markdown",
   "id": "bffaf9b8-b2fe-4bf3-92d6-27dd12ee35a1",
   "metadata": {},
   "source": [
    "- 레이블이 없는 샘플(known_labels == -1)에 대해, 해당 샘플이 속한 클러스터의 레이블을 할당"
   ]
  },
  {
   "cell_type": "code",
   "execution_count": 31,
   "id": "844a5920",
   "metadata": {},
   "outputs": [
    {
     "data": {
      "text/plain": [
       "(array([0, 1, 2, 3, 4, 5, 6, 7, 8, 9]),\n",
       " array([179,  89, 177, 181, 168, 158, 182, 199, 224, 240], dtype=int64))"
      ]
     },
     "execution_count": 31,
     "metadata": {},
     "output_type": "execute_result"
    }
   ],
   "source": [
    "# 레이블이 알려지지 않은(즉, -1인) 데이터 포인트들을 찾습니다.\n",
    "# 이들 데이터 포인트에 대해 해당 데이터 포인트가 속한 클러스터의 레이블을 할당합니다.\n",
    "known_labels[known_labels == -1] = cluster_labels[clusters[known_labels == -1]]\n",
    "\n",
    "# 이제 'known_labels'에는 원래 알려진 레이블과 클러스터링을 통해 추론된 레이블이 모두 포함됩니다.\n",
    "# 여기서 고유한 레이블 값들과 그들의 개수를 반환하고, 이를 출력하여 확인합니다.\n",
    "np.unique(known_labels, return_counts=True)"
   ]
  },
  {
   "cell_type": "code",
   "execution_count": 33,
   "id": "482a2e28",
   "metadata": {},
   "outputs": [
    {
     "data": {
      "text/plain": [
       "(array([0, 1, 2, 3, 4, 5, 6, 7, 8, 9]),\n",
       " array([178, 182, 177, 183, 181, 182, 181, 179, 174, 180], dtype=int64))"
      ]
     },
     "execution_count": 33,
     "metadata": {},
     "output_type": "execute_result"
    }
   ],
   "source": [
    "# 원래의 digits.target과 비교해 봅니다.\n",
    "np.unique(digits.target, return_counts=True)"
   ]
  },
  {
   "cell_type": "markdown",
   "id": "b0deeb63",
   "metadata": {},
   "source": [
    "군집화에 의해 할당한 label과 원래의 label 간의 정확도 비교"
   ]
  },
  {
   "cell_type": "code",
   "execution_count": 34,
   "id": "30aa6cd9",
   "metadata": {},
   "outputs": [
    {
     "data": {
      "text/plain": [
       "0.7957707289927657"
      ]
     },
     "execution_count": 34,
     "metadata": {},
     "output_type": "execute_result"
    }
   ],
   "source": [
    "sum(known_labels == digits.target) / len(digits.target)"
   ]
  }
 ],
 "metadata": {
  "kernelspec": {
   "display_name": "Python 3 (ipykernel)",
   "language": "python",
   "name": "python3"
  },
  "language_info": {
   "codemirror_mode": {
    "name": "ipython",
    "version": 3
   },
   "file_extension": ".py",
   "mimetype": "text/x-python",
   "name": "python",
   "nbconvert_exporter": "python",
   "pygments_lexer": "ipython3",
   "version": "3.9.16"
  }
 },
 "nbformat": 4,
 "nbformat_minor": 5
}
